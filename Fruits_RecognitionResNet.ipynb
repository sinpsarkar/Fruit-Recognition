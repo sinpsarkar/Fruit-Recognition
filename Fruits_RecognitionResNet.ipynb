{
 "cells": [
  {
   "cell_type": "code",
   "execution_count": null,
   "metadata": {
    "gradient": {
     "editing": false,
     "id": "03b3cde2-628a-468c-a1c1-5a88276ee336",
     "kernelId": ""
    },
    "id": "L_b36WMmeHO6"
   },
   "outputs": [],
   "source": [
    "#!nvidia-smi"
   ]
  },
  {
   "cell_type": "code",
   "execution_count": null,
   "metadata": {
    "gradient": {
     "editing": false,
     "id": "42fdbfc1-1fee-43d0-b1f0-f9e0e3fc58f7",
     "kernelId": ""
    },
    "id": "VCoqgIbOd2s6"
   },
   "outputs": [],
   "source": [
    "# For this project, we will be using the Fruits 360 dataset from Kaggle.\n",
    "# We shall use Kaggle API to get the dataset from Kaggle"
   ]
  },
  {
   "cell_type": "code",
   "execution_count": null,
   "metadata": {
    "colab": {
     "base_uri": "https://localhost:8080/"
    },
    "gradient": {
     "editing": false,
     "id": "223f3228-d628-43d7-b107-a72224c8ca75",
     "kernelId": ""
    },
    "id": "m72PUs3CfmQu",
    "outputId": "0069f647-5fe3-4f84-d919-8f2eac844156"
   },
   "outputs": [
    {
     "name": "stdout",
     "output_type": "stream",
     "text": [
      "Requirement already satisfied: opendatasets in /usr/local/lib/python3.8/dist-packages (0.1.20)\n",
      "Requirement already satisfied: kaggle in /usr/local/lib/python3.8/dist-packages (from opendatasets) (1.5.12)\n",
      "Requirement already satisfied: click in /usr/local/lib/python3.8/dist-packages (from opendatasets) (8.0.3)\n",
      "Requirement already satisfied: tqdm in /usr/local/lib/python3.8/dist-packages (from opendatasets) (4.62.3)\n",
      "Requirement already satisfied: requests in /usr/local/lib/python3.8/dist-packages (from kaggle->opendatasets) (2.27.1)\n",
      "Requirement already satisfied: python-dateutil in /usr/local/lib/python3.8/dist-packages (from kaggle->opendatasets) (2.8.2)\n",
      "Requirement already satisfied: six>=1.10 in /usr/local/lib/python3.8/dist-packages (from kaggle->opendatasets) (1.15.0)\n",
      "Requirement already satisfied: urllib3 in /usr/local/lib/python3.8/dist-packages (from kaggle->opendatasets) (1.26.8)\n",
      "Requirement already satisfied: certifi in /usr/local/lib/python3.8/dist-packages (from kaggle->opendatasets) (2021.10.8)\n",
      "Requirement already satisfied: python-slugify in /usr/local/lib/python3.8/dist-packages (from kaggle->opendatasets) (6.1.1)\n",
      "Requirement already satisfied: text-unidecode>=1.3 in /usr/local/lib/python3.8/dist-packages (from python-slugify->kaggle->opendatasets) (1.3)\n",
      "Requirement already satisfied: idna<4,>=2.5 in /usr/local/lib/python3.8/dist-packages (from requests->kaggle->opendatasets) (3.3)\n",
      "Requirement already satisfied: charset-normalizer~=2.0.0 in /usr/local/lib/python3.8/dist-packages (from requests->kaggle->opendatasets) (2.0.11)\n",
      "\u001b[33mWARNING: Running pip as the 'root' user can result in broken permissions and conflicting behaviour with the system package manager. It is recommended to use a virtual environment instead: https://pip.pypa.io/warnings/venv\u001b[0m\u001b[33m\n",
      "\u001b[0m\u001b[33mWARNING: You are using pip version 22.0.3; however, version 22.0.4 is available.\n",
      "You should consider upgrading via the '/usr/bin/python -m pip install --upgrade pip' command.\u001b[0m\u001b[33m\n",
      "\u001b[0m"
     ]
    }
   ],
   "source": [
    "!pip install opendatasets"
   ]
  },
  {
   "cell_type": "code",
   "execution_count": null,
   "metadata": {
    "gradient": {
     "editing": false,
     "id": "c7db9d3c-e1d7-4049-9ca3-8b4a1a8651f1",
     "kernelId": ""
    },
    "id": "o3L5rvyWf7nv"
   },
   "outputs": [],
   "source": [
    "import opendatasets as od"
   ]
  },
  {
   "cell_type": "code",
   "execution_count": null,
   "metadata": {
    "colab": {
     "base_uri": "https://localhost:8080/"
    },
    "gradient": {
     "editing": false,
     "id": "62a50e1d-114b-47ac-8ca5-c474ad29665f",
     "kernelId": ""
    },
    "id": "DhNQqkCveNSQ",
    "outputId": "a141a81a-d2e6-42e3-a253-c9d709a32591"
   },
   "outputs": [
    {
     "name": "stdout",
     "output_type": "stream",
     "text": [
      "Skipping, found downloaded files in \"./fruits\" (use force=True to force download)\n"
     ]
    }
   ],
   "source": [
    "od.download(\"https://www.kaggle.com/moltean/fruits/fruits-360_dataset/fruits-360\")"
   ]
  },
  {
   "cell_type": "code",
   "execution_count": null,
   "metadata": {
    "colab": {
     "base_uri": "https://localhost:8080/"
    },
    "gradient": {
     "editing": false,
     "id": "fa28113d-5294-4bf7-b19f-061a12b9c0b8",
     "kernelId": ""
    },
    "id": "pVCKozsMNsSx",
    "outputId": "6f71cac3-d236-46a0-e778-2b813f39dc06"
   },
   "outputs": [
    {
     "name": "stdout",
     "output_type": "stream",
     "text": [
      "unzip:  cannot find or open /content/FruitsData.zip, /content/FruitsData.zip.zip or /content/FruitsData.zip.ZIP.\n"
     ]
    }
   ],
   "source": [
    "!unzip -q \"/content/FruitsData.zip\""
   ]
  },
  {
   "cell_type": "code",
   "execution_count": null,
   "metadata": {
    "gradient": {
     "editing": false,
     "id": "ae51f5fc-4e88-45d6-96d9-320a5d8acbe7",
     "kernelId": ""
    },
    "id": "ha_lyTMwfdfX"
   },
   "outputs": [],
   "source": [
    "import tensorflow as tf\n",
    "import numpy as np\n",
    "import matplotlib.pyplot as plt\n",
    "from pathlib import Path\n",
    "from sklearn.preprocessing import LabelEncoder\n",
    "from sklearn.model_selection import train_test_split\n",
    "from tensorflow.keras.applications import ResNet50V2\n",
    "\n",
    "tf.random.set_seed(4)"
   ]
  },
  {
   "cell_type": "code",
   "execution_count": null,
   "metadata": {
    "gradient": {
     "editing": false,
     "id": "8f0e8a10-7a0d-45c8-80d8-563fc4da3173",
     "kernelId": ""
    },
    "id": "hs4SYyODlcEe"
   },
   "outputs": [],
   "source": [
    "train_path = Path(\"fruits/fruits-360_dataset/fruits-360/Training\")\n",
    "test_path = Path(\"fruits/fruits-360_dataset/fruits-360/Test\")"
   ]
  },
  {
   "cell_type": "code",
   "execution_count": null,
   "metadata": {
    "colab": {
     "base_uri": "https://localhost:8080/"
    },
    "gradient": {
     "editing": false,
     "id": "cb061995-bdbb-41a1-8bf7-104c1c19882f",
     "kernelId": ""
    },
    "id": "UpNv0KTsnxoT",
    "outputId": "78283f90-e898-4506-b12c-386093fd30dd"
   },
   "outputs": [
    {
     "data": {
      "text/plain": [
       "['fruits/fruits-360_dataset/fruits-360/Training/Pomegranate/r_247_100.jpg',\n",
       " 'fruits/fruits-360_dataset/fruits-360/Training/Pomegranate/288_100.jpg',\n",
       " 'fruits/fruits-360_dataset/fruits-360/Training/Pomegranate/305_100.jpg',\n",
       " 'fruits/fruits-360_dataset/fruits-360/Training/Pomegranate/0_100.jpg',\n",
       " 'fruits/fruits-360_dataset/fruits-360/Training/Pomegranate/317_100.jpg',\n",
       " 'fruits/fruits-360_dataset/fruits-360/Training/Pomegranate/r_317_100.jpg',\n",
       " 'fruits/fruits-360_dataset/fruits-360/Training/Pomegranate/r_253_100.jpg',\n",
       " 'fruits/fruits-360_dataset/fruits-360/Training/Pomegranate/r_204_100.jpg',\n",
       " 'fruits/fruits-360_dataset/fruits-360/Training/Pomegranate/r_94_100.jpg',\n",
       " 'fruits/fruits-360_dataset/fruits-360/Training/Pomegranate/r_201_100.jpg']"
      ]
     },
     "execution_count": 9,
     "metadata": {},
     "output_type": "execute_result"
    }
   ],
   "source": [
    "train_image_paths = list(train_path.glob(\"*/*\"))\n",
    "train_image_paths = list(map(lambda x:str(x), train_image_paths))\n",
    "train_image_paths[:10]"
   ]
  },
  {
   "cell_type": "code",
   "execution_count": null,
   "metadata": {
    "colab": {
     "base_uri": "https://localhost:8080/"
    },
    "gradient": {
     "editing": false,
     "id": "77ba54c1-d34f-4a43-ab38-19a89e95311d",
     "kernelId": ""
    },
    "id": "kGW7l8pka1hb",
    "outputId": "f2593e93-22e9-46f9-859c-bdf891e31aa9"
   },
   "outputs": [
    {
     "data": {
      "text/plain": [
       "['fruits/fruits-360_dataset/fruits-360/Training/Pomegranate/r_247_100.jpg',\n",
       " 'fruits/fruits-360_dataset/fruits-360/Training/Pomegranate/288_100.jpg',\n",
       " 'fruits/fruits-360_dataset/fruits-360/Training/Pomegranate/305_100.jpg',\n",
       " 'fruits/fruits-360_dataset/fruits-360/Training/Pomegranate/0_100.jpg',\n",
       " 'fruits/fruits-360_dataset/fruits-360/Training/Pomegranate/317_100.jpg',\n",
       " 'fruits/fruits-360_dataset/fruits-360/Training/Pomegranate/r_317_100.jpg',\n",
       " 'fruits/fruits-360_dataset/fruits-360/Training/Pomegranate/r_253_100.jpg',\n",
       " 'fruits/fruits-360_dataset/fruits-360/Training/Pomegranate/r_204_100.jpg',\n",
       " 'fruits/fruits-360_dataset/fruits-360/Training/Pomegranate/r_94_100.jpg',\n",
       " 'fruits/fruits-360_dataset/fruits-360/Training/Pomegranate/r_201_100.jpg']"
      ]
     },
     "execution_count": 10,
     "metadata": {},
     "output_type": "execute_result"
    }
   ],
   "source": [
    "train_image_paths = list(train_path.glob(\"*/*\"))\n",
    "train_image_paths = list(map(lambda x:str(x), train_image_paths))\n",
    "train_image_paths[:10]"
   ]
  },
  {
   "cell_type": "code",
   "execution_count": null,
   "metadata": {
    "colab": {
     "base_uri": "https://localhost:8080/"
    },
    "gradient": {
     "editing": false,
     "id": "ed4675a6-40a8-4577-87d2-f212a03d08be",
     "kernelId": ""
    },
    "id": "Z23WlKUdn_rH",
    "outputId": "4c209e3b-be5b-4522-8a76-e715a80c4f22"
   },
   "outputs": [
    {
     "data": {
      "text/plain": [
       "['Pomegranate',\n",
       " 'Pomegranate',\n",
       " 'Pomegranate',\n",
       " 'Pomegranate',\n",
       " 'Pomegranate',\n",
       " 'Pomegranate',\n",
       " 'Pomegranate',\n",
       " 'Pomegranate',\n",
       " 'Pomegranate',\n",
       " 'Pomegranate']"
      ]
     },
     "execution_count": 11,
     "metadata": {},
     "output_type": "execute_result"
    }
   ],
   "source": [
    "def get_label(image_path):\n",
    "  return image_path.split(\"/\")[-2]\n",
    "\n",
    "train_image_labels = list(map(lambda x: get_label(x), train_image_paths))\n",
    "\n",
    "train_image_labels[100:110]"
   ]
  },
  {
   "cell_type": "code",
   "execution_count": null,
   "metadata": {
    "colab": {
     "base_uri": "https://localhost:8080/"
    },
    "gradient": {
     "editing": false,
     "id": "e0d2fe39-e9c1-40ab-85a0-173f76653190",
     "kernelId": ""
    },
    "id": "3t8e_krTvVlD",
    "outputId": "00b88071-5fb8-4364-f593-0091ea258e4b"
   },
   "outputs": [
    {
     "data": {
      "text/plain": [
       "array([105, 105, 105, 105, 105, 105, 105, 105, 105, 105])"
      ]
     },
     "execution_count": 12,
     "metadata": {},
     "output_type": "execute_result"
    }
   ],
   "source": [
    "Le = LabelEncoder()\n",
    "train_image_labels = Le.fit_transform(train_image_labels)\n",
    "train_image_labels[:10]"
   ]
  },
  {
   "cell_type": "code",
   "execution_count": null,
   "metadata": {
    "colab": {
     "base_uri": "https://localhost:8080/"
    },
    "gradient": {
     "editing": false,
     "id": "cfd56a88-3e13-4b64-8483-820fe9d3aa29",
     "kernelId": ""
    },
    "id": "gLKtp0ORpcb_",
    "outputId": "490cb76c-7a44-4682-97bb-3b7fbe7036d7"
   },
   "outputs": [
    {
     "data": {
      "text/plain": [
       "array([[0., 0., 0., ..., 0., 0., 0.],\n",
       "       [0., 0., 0., ..., 0., 0., 0.],\n",
       "       [0., 0., 0., ..., 0., 0., 0.],\n",
       "       ...,\n",
       "       [0., 0., 0., ..., 0., 0., 0.],\n",
       "       [0., 0., 0., ..., 0., 0., 0.],\n",
       "       [0., 0., 0., ..., 0., 0., 0.]], dtype=float32)"
      ]
     },
     "execution_count": 13,
     "metadata": {},
     "output_type": "execute_result"
    }
   ],
   "source": [
    "train_image_labels = tf.keras.utils.to_categorical(train_image_labels)\n",
    "train_image_labels[:10]"
   ]
  },
  {
   "cell_type": "code",
   "execution_count": null,
   "metadata": {
    "gradient": {
     "editing": false,
     "id": "6203eed7-4067-44c3-a84d-2a7e4599e2e2",
     "kernelId": ""
    },
    "id": "8iUcdB9oSli-"
   },
   "outputs": [],
   "source": [
    "Train_paths, Val_paths, Train_labels, Val_labels = train_test_split(train_image_paths,train_image_labels)"
   ]
  },
  {
   "cell_type": "code",
   "execution_count": null,
   "metadata": {
    "colab": {
     "base_uri": "https://localhost:8080/"
    },
    "gradient": {
     "editing": false,
     "id": "2ed4efcc-8f7d-4e9d-b645-fd31d2e146fd",
     "kernelId": ""
    },
    "id": "dHVkB1DDT4Z3",
    "outputId": "3ce37ce6-d3f3-439e-ef4d-1f29db2b3a60"
   },
   "outputs": [
    {
     "data": {
      "text/plain": [
       "(['fruits/fruits-360_dataset/fruits-360/Training/Grape White 3/r_254_100.jpg',\n",
       "  'fruits/fruits-360_dataset/fruits-360/Training/Pepper Yellow/r_270_100.jpg',\n",
       "  'fruits/fruits-360_dataset/fruits-360/Training/Onion Red Peeled/r_26_100.jpg',\n",
       "  'fruits/fruits-360_dataset/fruits-360/Training/Grape Blue/31_100.jpg',\n",
       "  'fruits/fruits-360_dataset/fruits-360/Training/Pitahaya Red/14_100.jpg',\n",
       "  'fruits/fruits-360_dataset/fruits-360/Training/Apple Red 3/r_276_100.jpg',\n",
       "  'fruits/fruits-360_dataset/fruits-360/Training/Banana Lady Finger/r2_29_100.jpg',\n",
       "  'fruits/fruits-360_dataset/fruits-360/Training/Cantaloupe 2/r_137_100.jpg',\n",
       "  'fruits/fruits-360_dataset/fruits-360/Training/Pear Stone/200_100.jpg',\n",
       "  'fruits/fruits-360_dataset/fruits-360/Training/Apple Golden 1/222_100.jpg'],\n",
       " array([[0., 0., 0., ..., 0., 0., 0.],\n",
       "        [0., 0., 0., ..., 0., 0., 0.],\n",
       "        [0., 0., 0., ..., 0., 0., 0.],\n",
       "        ...,\n",
       "        [0., 0., 0., ..., 0., 0., 0.],\n",
       "        [0., 0., 0., ..., 0., 0., 0.],\n",
       "        [0., 0., 1., ..., 0., 0., 0.]], dtype=float32))"
      ]
     },
     "execution_count": 15,
     "metadata": {},
     "output_type": "execute_result"
    }
   ],
   "source": [
    "Train_paths[:10], Train_labels[:10]"
   ]
  },
  {
   "cell_type": "code",
   "execution_count": null,
   "metadata": {
    "gradient": {
     "editing": false,
     "id": "4f9dbe34-6347-4e6f-a29b-1d1f493e363d",
     "kernelId": ""
    },
    "id": "t9H_UuGxojeC"
   },
   "outputs": [],
   "source": [
    "# Data Augmentation"
   ]
  },
  {
   "cell_type": "code",
   "execution_count": null,
   "metadata": {
    "gradient": {
     "editing": false,
     "id": "7c85c8e6-140a-4715-aa0c-5e23707b5684",
     "kernelId": ""
    },
    "id": "kSjAM8J7oy9_"
   },
   "outputs": [],
   "source": [
    "#Function to read image jpeg file and return Image tensor and label for the same"
   ]
  },
  {
   "cell_type": "code",
   "execution_count": null,
   "metadata": {
    "gradient": {
     "editing": false,
     "id": "9e027bde-6303-4336-bfb9-3c89805bb249",
     "kernelId": ""
    },
    "id": "XKkJ0Qt4pK2u"
   },
   "outputs": [],
   "source": [
    "def load(image, label):\n",
    "  image = tf.io.read_file(image)\n",
    "  image = tf.io.decode_jpeg(image, channels = 3)\n",
    "  return image, label"
   ]
  },
  {
   "cell_type": "code",
   "execution_count": null,
   "metadata": {
    "gradient": {
     "editing": false,
     "id": "ffbe6217-4d27-43f4-9da7-b5eaf2ee17a5",
     "kernelId": ""
    },
    "id": "Jbwi-qykqBvJ"
   },
   "outputs": [],
   "source": [
    "# Define Augmentation"
   ]
  },
  {
   "cell_type": "code",
   "execution_count": null,
   "metadata": {
    "gradient": {
     "editing": false,
     "id": "13cbb36e-c25a-48ae-a2b0-41a51972b641",
     "kernelId": ""
    },
    "id": "grvz_hSSqTam"
   },
   "outputs": [
    {
     "name": "stderr",
     "output_type": "stream",
     "text": [
      "2022-03-27 11:59:32.844472: I tensorflow/stream_executor/cuda/cuda_gpu_executor.cc:1052] successful NUMA node read from SysFS had negative value (-1), but there must be at least one NUMA node, so returning NUMA node zero\n",
      "2022-03-27 11:59:32.888768: I tensorflow/stream_executor/cuda/cuda_gpu_executor.cc:1052] successful NUMA node read from SysFS had negative value (-1), but there must be at least one NUMA node, so returning NUMA node zero\n",
      "2022-03-27 11:59:32.889226: I tensorflow/stream_executor/cuda/cuda_gpu_executor.cc:1052] successful NUMA node read from SysFS had negative value (-1), but there must be at least one NUMA node, so returning NUMA node zero\n",
      "2022-03-27 11:59:32.891425: I tensorflow/stream_executor/cuda/cuda_gpu_executor.cc:1052] successful NUMA node read from SysFS had negative value (-1), but there must be at least one NUMA node, so returning NUMA node zero\n",
      "2022-03-27 11:59:32.891825: I tensorflow/stream_executor/cuda/cuda_gpu_executor.cc:1052] successful NUMA node read from SysFS had negative value (-1), but there must be at least one NUMA node, so returning NUMA node zero\n",
      "2022-03-27 11:59:32.892185: I tensorflow/stream_executor/cuda/cuda_gpu_executor.cc:1052] successful NUMA node read from SysFS had negative value (-1), but there must be at least one NUMA node, so returning NUMA node zero\n",
      "2022-03-27 11:59:33.581317: I tensorflow/stream_executor/cuda/cuda_gpu_executor.cc:1052] successful NUMA node read from SysFS had negative value (-1), but there must be at least one NUMA node, so returning NUMA node zero\n",
      "2022-03-27 11:59:33.581624: I tensorflow/stream_executor/cuda/cuda_gpu_executor.cc:1052] successful NUMA node read from SysFS had negative value (-1), but there must be at least one NUMA node, so returning NUMA node zero\n",
      "2022-03-27 11:59:33.581876: I tensorflow/stream_executor/cuda/cuda_gpu_executor.cc:1052] successful NUMA node read from SysFS had negative value (-1), but there must be at least one NUMA node, so returning NUMA node zero\n",
      "2022-03-27 11:59:33.582085: I tensorflow/core/common_runtime/gpu/gpu_device.cc:1525] Created device /job:localhost/replica:0/task:0/device:GPU:0 with 7276 MB memory:  -> device: 0, name: Quadro M4000, pci bus id: 0000:00:05.0, compute capability: 5.2\n"
     ]
    }
   ],
   "source": [
    "IMG_SIZE = 224\n",
    "BATCH_SIZE = 32\n",
    "\n",
    "# Basic Transformation for Resize\n",
    "resize = tf.keras.Sequential([\n",
    "    tf.keras.layers.experimental.preprocessing.Resizing(IMG_SIZE, IMG_SIZE)                                                            \n",
    "])\n",
    "\n",
    "#Data Augmentation\n",
    "data_augmentation = tf.keras.Sequential([\n",
    "  tf.keras.layers.experimental.preprocessing.RandomFlip(\"horizontal\")                                         ,\n",
    "  tf.keras.layers.experimental.preprocessing.RandomRotation(0.2),\n",
    "  tf.keras.layers.experimental.preprocessing.RandomZoom(height_factor=(-0.3, -0.2))\n",
    "])"
   ]
  },
  {
   "cell_type": "code",
   "execution_count": null,
   "metadata": {
    "gradient": {
     "editing": false,
     "id": "9477ef62-2ae8-46f6-bae9-d76adf1c67c3",
     "kernelId": ""
    },
    "id": "mPBllZ_FsT5t"
   },
   "outputs": [],
   "source": [
    "# Load and Convert Image files to Tensors\n",
    "\n",
    "AUTOTUNE = tf.data.experimental.AUTOTUNE\n",
    "\n",
    "def get_dataset(paths, labels, train=True):\n",
    "  #Convert Paths and Labels to TF tensors\n",
    "  image_paths = tf.convert_to_tensor(paths)\n",
    "  labels = tf.convert_to_tensor(labels)\n",
    "\n",
    "  #Create dataset object for images and labels\n",
    "  image_dataset = tf.data.Dataset.from_tensor_slices(image_paths)\n",
    "  label_dataset = tf.data.Dataset.from_tensor_slices(labels)\n",
    "\n",
    "  # Zip the images and labels\n",
    "  dataset = tf.data.Dataset.zip((image_dataset, label_dataset))\n",
    "  \n",
    "\n",
    "  #Apply load function to all the images and labels\n",
    "  dataset = dataset.map(lambda image, label: load(image, label))\n",
    "  dataset = dataset.map(lambda image, label: (resize(image), label), num_parallel_calls = AUTOTUNE)\n",
    "  dataset = dataset.shuffle(1000)\n",
    "  dataset = dataset.batch(BATCH_SIZE)\n",
    "\n",
    "  #For Training dataset, apply Augmentation, for Validation, only Repeat\n",
    "\n",
    "  if train:\n",
    "    dataset = dataset.map(lambda image, label: (data_augmentation(image), label), num_parallel_calls = AUTOTUNE)\n",
    "  \n",
    "  dataset = dataset.repeat()\n",
    "\n",
    "  return dataset\n"
   ]
  },
  {
   "cell_type": "code",
   "execution_count": null,
   "metadata": {
    "colab": {
     "base_uri": "https://localhost:8080/"
    },
    "gradient": {
     "editing": false,
     "id": "c362066e-edf8-4711-87e3-389922ddb6ed",
     "kernelId": ""
    },
    "id": "rS63Z3-y_a00",
    "outputId": "b36335d5-8dd0-4be5-9df8-71d6047476c3"
   },
   "outputs": [
    {
     "name": "stdout",
     "output_type": "stream",
     "text": [
      "CPU times: user 482 ms, sys: 34.4 ms, total: 516 ms\n",
      "Wall time: 519 ms\n",
      "(32, 224, 224, 3)\n",
      "(32, 131)\n"
     ]
    }
   ],
   "source": [
    "#Create Training dataset and Validate the same\n",
    "\n",
    "%time train_dataset = get_dataset(Train_paths , Train_labels)\n",
    "\n",
    "image, label = next(iter(train_dataset))\n",
    "print(image.shape)\n",
    "print(label.shape)\n"
   ]
  },
  {
   "cell_type": "code",
   "execution_count": null,
   "metadata": {
    "colab": {
     "base_uri": "https://localhost:8080/",
     "height": 286
    },
    "gradient": {
     "editing": false,
     "id": "0b6cae17-b764-4ba9-b6be-27c3ef058ef9",
     "kernelId": ""
    },
    "id": "9P0_DepOg3XE",
    "outputId": "9750c4b9-e494-46cd-e3d5-a7c1019c7030"
   },
   "outputs": [
    {
     "name": "stdout",
     "output_type": "stream",
     "text": [
      "Potato Red\n"
     ]
    },
    {
     "data": {
      "image/png": "[encoded data removed]",
      "text/plain": [
       "<Figure size 432x288 with 1 Axes>"
      ]
     },
     "metadata": {
      "needs_background": "light"
     },
     "output_type": "display_data"
    }
   ],
   "source": [
    "plt.imshow((image[0].numpy()/255).reshape(224,224,3))\n",
    "print(Le.inverse_transform(np.argmax(label, axis=1))[0])"
   ]
  },
  {
   "cell_type": "code",
   "execution_count": null,
   "metadata": {
    "colab": {
     "base_uri": "https://localhost:8080/",
     "height": 356
    },
    "gradient": {
     "editing": false,
     "id": "6919d177-cdf2-42a7-bc47-8b95b6e374f4",
     "kernelId": ""
    },
    "id": "FcAmbAb-i9zv",
    "outputId": "3315af40-2b40-4051-8c9d-d820388ee25c"
   },
   "outputs": [
    {
     "name": "stdout",
     "output_type": "stream",
     "text": [
      "CPU times: user 61.8 ms, sys: 1.91 ms, total: 63.7 ms\n",
      "Wall time: 62 ms\n",
      "(32, 224, 224, 3)\n",
      "(32, 131)\n",
      "Salak\n"
     ]
    },
    {
     "data": {
      "image/png": "[encoded data removed]",
      "text/plain": [
       "<Figure size 432x288 with 1 Axes>"
      ]
     },
     "metadata": {
      "needs_background": "light"
     },
     "output_type": "display_data"
    }
   ],
   "source": [
    "#Create Training dataset and Validate the same\n",
    "\n",
    "%time val_dataset = get_dataset(Train_paths , Train_labels, train=False)\n",
    "\n",
    "image, label = next(iter(val_dataset))\n",
    "print(image.shape)\n",
    "print(label.shape)\n",
    "\n",
    "plt.imshow((image[0].numpy()/255).reshape(224,224,3))\n",
    "print(Le.inverse_transform(np.argmax(label, axis=1))[0])"
   ]
  },
  {
   "cell_type": "code",
   "execution_count": null,
   "metadata": {
    "colab": {
     "base_uri": "https://localhost:8080/"
    },
    "gradient": {
     "editing": false,
     "id": "56319a8f-7f7a-4042-804e-5976b460c38f",
     "kernelId": ""
    },
    "id": "V_eKYrJEl1Uc",
    "outputId": "79e5292d-2cc8-4259-96d6-f6c4f3d8d04b"
   },
   "outputs": [
    {
     "name": "stdout",
     "output_type": "stream",
     "text": [
      "Model: \"sequential_2\"\n",
      "_________________________________________________________________\n",
      " Layer (type)                Output Shape              Param #   \n",
      "=================================================================\n",
      " resnet50v2 (Functional)     (None, 7, 7, 2048)        23564800  \n",
      "                                                                 \n",
      " global_average_pooling2d (G  (None, 2048)             0         \n",
      " lobalAveragePooling2D)                                          \n",
      "                                                                 \n",
      " dense (Dense)               (None, 131)               268419    \n",
      "                                                                 \n",
      "=================================================================\n",
      "Total params: 23,833,219\n",
      "Trainable params: 23,787,779\n",
      "Non-trainable params: 45,440\n",
      "_________________________________________________________________\n"
     ]
    }
   ],
   "source": [
    "backbone = ResNet50V2(\n",
    "    input_shape=(224,224,3),\n",
    "    include_top = False\n",
    ")\n",
    "\n",
    "Model = tf.keras.Sequential([\n",
    "    backbone,\n",
    "    tf.keras.layers.GlobalAveragePooling2D(),\n",
    "    tf.keras.layers.Dense(131, activation = 'softmax')\n",
    "\n",
    "])\n",
    "\n",
    "Model.summary()"
   ]
  },
  {
   "cell_type": "code",
   "execution_count": null,
   "metadata": {
    "gradient": {
     "editing": false,
     "id": "f48b3496-e593-471f-b64e-7f8f54d7721e",
     "kernelId": ""
    },
    "id": "a1vp7Dyr67x8"
   },
   "outputs": [],
   "source": [
    "#Compile the Model\n",
    "Model.compile(\n",
    "    optimizer = tf.keras.optimizers.Adam(learning_rate = 0.001,beta_1 = 0.9, beta_2 = 0.999, epsilon = 1e-07),\n",
    "    loss = 'categorical_crossentropy',\n",
    "    metrics = ['accuracy', tf.keras.metrics.Precision(name = 'precision'), tf.keras.metrics.Recall(name = 'Recall')]\n",
    ")"
   ]
  },
  {
   "cell_type": "code",
   "execution_count": null,
   "metadata": {
    "colab": {
     "base_uri": "https://localhost:8080/",
     "height": 380
    },
    "gradient": {
     "editing": false,
     "id": "078a9f81-4cf6-4577-b51a-d8e5d18bb1ad",
     "kernelId": ""
    },
    "id": "0wsQdoUz-UIg",
    "outputId": "be34f1b1-662e-47b6-b866-022f52eed285"
   },
   "outputs": [
    {
     "name": "stderr",
     "output_type": "stream",
     "text": [
      "2022-03-27 11:59:44.771190: I tensorflow/stream_executor/cuda/cuda_dnn.cc:377] Loaded cuDNN version 8302\n"
     ]
    },
    {
     "name": "stdout",
     "output_type": "stream",
     "text": [
      "1586/1586 [==============================] - 912s 566ms/step - loss: 0.4473 - accuracy: 0.8732 - precision: 0.9311 - Recall: 0.8392 - val_loss: 3.2743 - val_accuracy: 0.4877 - val_precision: 0.5265 - val_Recall: 0.4627\n"
     ]
    }
   ],
   "source": [
    "#Train the Model\n",
    "\n",
    "history = Model.fit(\n",
    "    train_dataset,\n",
    "    steps_per_epoch = len(Train_paths)//BATCH_SIZE,\n",
    "    epochs = 1,\n",
    "    validation_data = val_dataset,\n",
    "    validation_steps = len(Val_paths)//BATCH_SIZE\n",
    ")"
   ]
  },
  {
   "cell_type": "code",
   "execution_count": null,
   "metadata": {
    "gradient": {
     "editing": false,
     "id": "d7c63b9a-8053-4256-9eb0-1888f15a7560",
     "kernelId": ""
    },
    "id": "EgZ9nhzq7pV7"
   },
   "outputs": [],
   "source": [
    "#Turn off the backbone network(ResNet)\n",
    "Model.layers[0].trainable = False"
   ]
  },
  {
   "cell_type": "code",
   "execution_count": null,
   "metadata": {
    "gradient": {
     "editing": false,
     "id": "6cec3e20-bf03-485d-929c-80ae7a34a313",
     "kernelId": ""
    },
    "id": "2bd_T8uMDttD"
   },
   "outputs": [],
   "source": [
    "#Define Callbacks\n",
    "checkpoint = tf.keras.callbacks.ModelCheckpoint(\"ResNet Best Weights.h5\", verbose = 1, save_best_only = True, save_weights_only = True)\n",
    "early_stop = tf.keras.callbacks.EarlyStopping(patience=4)"
   ]
  },
  {
   "cell_type": "code",
   "execution_count": null,
   "metadata": {
    "gradient": {
     "editing": false,
     "id": "864a61f2-abe7-4466-a888-913e6e9582f7",
     "kernelId": ""
    },
    "id": "uySUX2MgEg1Z"
   },
   "outputs": [
    {
     "name": "stdout",
     "output_type": "stream",
     "text": [
      "Model: \"sequential_2\"\n",
      "_________________________________________________________________\n",
      " Layer (type)                Output Shape              Param #   \n",
      "=================================================================\n",
      " resnet50v2 (Functional)     (None, 7, 7, 2048)        23564800  \n",
      "                                                                 \n",
      " global_average_pooling2d (G  (None, 2048)             0         \n",
      " lobalAveragePooling2D)                                          \n",
      "                                                                 \n",
      " dense (Dense)               (None, 131)               268419    \n",
      "                                                                 \n",
      "=================================================================\n",
      "Total params: 23,833,219\n",
      "Trainable params: 268,419\n",
      "Non-trainable params: 23,564,800\n",
      "_________________________________________________________________\n"
     ]
    }
   ],
   "source": [
    "Model.summary()"
   ]
  },
  {
   "cell_type": "code",
   "execution_count": null,
   "metadata": {
    "collapsed": false,
    "gradient": {
     "editing": false,
     "id": "b561017e-da48-4392-8c58-a5652260ef79",
     "kernelId": ""
    },
    "id": "xHnQoXhGEruq",
    "jupyter": {
     "outputs_hidden": false
    }
   },
   "outputs": [
    {
     "name": "stdout",
     "output_type": "stream",
     "text": [
      "Epoch 1/8\n",
      "1586/1586 [==============================] - ETA: 0s - loss: 0.0836 - accuracy: 0.9741 - precision: 0.9766 - Recall: 0.9713\n",
      "Epoch 00001: val_loss improved from inf to 1.60026, saving model to ResNet Best Weights.h5\n",
      "1586/1586 [==============================] - 896s 565ms/step - loss: 0.0836 - accuracy: 0.9741 - precision: 0.9766 - Recall: 0.9713 - val_loss: 1.6003 - val_accuracy: 0.6258 - val_precision: 0.6635 - val_Recall: 0.5993\n",
      "Epoch 2/8\n",
      "1586/1586 [==============================] - ETA: 0s - loss: 0.0562 - accuracy: 0.9823 - precision: 0.9838 - Recall: 0.9805\n",
      "Epoch 00002: val_loss did not improve from 1.60026\n",
      "1586/1586 [==============================] - 899s 565ms/step - loss: 0.0562 - accuracy: 0.9823 - precision: 0.9838 - Recall: 0.9805 - val_loss: 4.0936 - val_accuracy: 0.5218 - val_precision: 0.5410 - val_Recall: 0.5085\n",
      "Epoch 3/8\n",
      "1586/1586 [==============================] - ETA: 0s - loss: 0.0456 - accuracy: 0.9863 - precision: 0.9875 - Recall: 0.9853\n",
      "Epoch 00003: val_loss did not improve from 1.60026\n",
      "1586/1586 [==============================] - 896s 565ms/step - loss: 0.0456 - accuracy: 0.9863 - precision: 0.9875 - Recall: 0.9853 - val_loss: 5.5004 - val_accuracy: 0.4373 - val_precision: 0.4617 - val_Recall: 0.4211\n",
      "Epoch 4/8\n",
      "1586/1586 [==============================] - ETA: 0s - loss: 0.0368 - accuracy: 0.9886 - precision: 0.9893 - Recall: 0.9879\n",
      "Epoch 00004: val_loss did not improve from 1.60026\n",
      "1586/1586 [==============================] - 896s 565ms/step - loss: 0.0368 - accuracy: 0.9886 - precision: 0.9893 - Recall: 0.9879 - val_loss: 5.2461 - val_accuracy: 0.3697 - val_precision: 0.4026 - val_Recall: 0.3549\n",
      "Epoch 5/8\n",
      "1586/1586 [==============================] - ETA: 0s - loss: 0.0273 - accuracy: 0.9918 - precision: 0.9926 - Recall: 0.9914\n",
      "Epoch 00005: val_loss did not improve from 1.60026\n",
      "1586/1586 [==============================] - 896s 565ms/step - loss: 0.0273 - accuracy: 0.9918 - precision: 0.9926 - Recall: 0.9914 - val_loss: 7.7866 - val_accuracy: 0.3842 - val_precision: 0.4029 - val_Recall: 0.3732\n"
     ]
    }
   ],
   "source": [
    "#Train the Model without the backbone layer\n",
    "\n",
    "#Train the Model\n",
    "\n",
    "history = Model.fit(\n",
    "    train_dataset,\n",
    "    steps_per_epoch = len(Train_paths)//BATCH_SIZE,\n",
    "    epochs = 8,\n",
    "    callbacks = [checkpoint, early_stop],\n",
    "    validation_data = val_dataset,\n",
    "    validation_steps = len(Val_paths)//BATCH_SIZE\n",
    ")"
   ]
  },
  {
   "cell_type": "code",
   "execution_count": null,
   "metadata": {
    "collapsed": false,
    "gradient": {
     "editing": false,
     "id": "0e83d987-a854-4d27-9c6e-a08d737f3909",
     "kernelId": "",
     "source_hidden": false
    },
    "jupyter": {
     "outputs_hidden": false
    }
   },
   "outputs": [],
   "source": []
  }
 ],
 "metadata": {
  "accelerator": "GPU",
  "colab": {
   "collapsed_sections": [],
   "name": "Fruits Recognition.ipynb",
   "provenance": []
  },
  "kernelspec": {
   "display_name": "Python 3 (ipykernel)",
   "language": "python",
   "name": "python3"
  },
  "language_info": {
   "codemirror_mode": {
    "name": "ipython",
    "version": 3
   },
   "file_extension": ".py",
   "mimetype": "text/x-python",
   "name": "python",
   "nbconvert_exporter": "python",
   "pygments_lexer": "ipython3",
   "version": "3.8.10"
  }
 },
 "nbformat": 4,
 "nbformat_minor": 4
}
