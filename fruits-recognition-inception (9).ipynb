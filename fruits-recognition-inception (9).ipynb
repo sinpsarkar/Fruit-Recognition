{
 "cells": [
  {
   "cell_type": "code",
   "execution_count": 1,
   "metadata": {
    "gradient": {
     "editing": false,
     "id": "1479f1f4-1e10-494e-810d-5a7c19a5e975",
     "kernelId": ""
    },
    "id": "L_b36WMmeHO6"
   },
   "outputs": [],
   "source": [
    "#!nvidia-smi"
   ]
  },
  {
   "cell_type": "code",
   "execution_count": 2,
   "metadata": {
    "gradient": {
     "editing": false,
     "id": "8f7bd566-0795-46fc-8e43-3f0c7cabb6df",
     "kernelId": ""
    },
    "id": "VCoqgIbOd2s6"
   },
   "outputs": [],
   "source": [
    "# For this project, we will be using the Fruits 360 dataset from Kaggle.\n",
    "# We shall use Kaggle API to get the dataset from Kaggle"
   ]
  },
  {
   "cell_type": "code",
   "execution_count": 3,
   "metadata": {
    "gradient": {
     "editing": false,
     "id": "4c2cd8d7-3f48-4814-bd91-40b10de78a04",
     "kernelId": ""
    },
    "id": "m72PUs3CfmQu",
    "outputId": "0069f647-5fe3-4f84-d919-8f2eac844156",
    "tags": []
   },
   "outputs": [
    {
     "name": "stdout",
     "output_type": "stream",
     "text": [
      "Collecting opendatasets\n",
      "  Downloading opendatasets-0.1.20-py3-none-any.whl (14 kB)\n",
      "Requirement already satisfied: click in /usr/local/lib/python3.8/dist-packages (from opendatasets) (8.0.3)\n",
      "Collecting kaggle\n",
      "  Downloading kaggle-1.5.12.tar.gz (58 kB)\n",
      "\u001b[2K     \u001b[90m━━━━━━━━━━━━━━━━━━━━━━━━━━━━━━━━━━━━━━━━\u001b[0m \u001b[32m59.0/59.0 KB\u001b[0m \u001b[31m10.4 MB/s\u001b[0m eta \u001b[36m0:00:00\u001b[0m\n",
      "\u001b[?25h  Preparing metadata (setup.py) ... \u001b[?25ldone\n",
      "\u001b[?25hRequirement already satisfied: tqdm in /usr/local/lib/python3.8/dist-packages (from opendatasets) (4.62.3)\n",
      "Requirement already satisfied: six>=1.10 in /usr/local/lib/python3.8/dist-packages (from kaggle->opendatasets) (1.15.0)\n",
      "Requirement already satisfied: certifi in /usr/local/lib/python3.8/dist-packages (from kaggle->opendatasets) (2021.10.8)\n",
      "Requirement already satisfied: python-dateutil in /usr/local/lib/python3.8/dist-packages (from kaggle->opendatasets) (2.8.2)\n",
      "Requirement already satisfied: requests in /usr/local/lib/python3.8/dist-packages (from kaggle->opendatasets) (2.27.1)\n",
      "Collecting python-slugify\n",
      "  Downloading python_slugify-6.1.1-py2.py3-none-any.whl (9.1 kB)\n",
      "Requirement already satisfied: urllib3 in /usr/local/lib/python3.8/dist-packages (from kaggle->opendatasets) (1.26.8)\n",
      "Collecting text-unidecode>=1.3\n",
      "  Downloading text_unidecode-1.3-py2.py3-none-any.whl (78 kB)\n",
      "\u001b[2K     \u001b[90m━━━━━━━━━━━━━━━━━━━━━━━━━━━━━━━━━━━━━━━━\u001b[0m \u001b[32m78.2/78.2 KB\u001b[0m \u001b[31m12.8 MB/s\u001b[0m eta \u001b[36m0:00:00\u001b[0m\n",
      "\u001b[?25hRequirement already satisfied: charset-normalizer~=2.0.0 in /usr/local/lib/python3.8/dist-packages (from requests->kaggle->opendatasets) (2.0.11)\n",
      "Requirement already satisfied: idna<4,>=2.5 in /usr/local/lib/python3.8/dist-packages (from requests->kaggle->opendatasets) (3.3)\n",
      "Building wheels for collected packages: kaggle\n",
      "  Building wheel for kaggle (setup.py) ... \u001b[?25ldone\n",
      "\u001b[?25h  Created wheel for kaggle: filename=kaggle-1.5.12-py3-none-any.whl size=73052 sha256=a701469166111b7d5cbc34c339e4bdbe4d31312f5d72d5315ab6c4b34eb53cac\n",
      "  Stored in directory: /root/.cache/pip/wheels/29/da/11/144cc25aebdaeb4931b231e25fd34b394e6a5725cbb2f50106\n",
      "Successfully built kaggle\n",
      "Installing collected packages: text-unidecode, python-slugify, kaggle, opendatasets\n",
      "Successfully installed kaggle-1.5.12 opendatasets-0.1.20 python-slugify-6.1.1 text-unidecode-1.3\n",
      "\u001b[33mWARNING: Running pip as the 'root' user can result in broken permissions and conflicting behaviour with the system package manager. It is recommended to use a virtual environment instead: https://pip.pypa.io/warnings/venv\u001b[0m\u001b[33m\n",
      "\u001b[0m\u001b[33mWARNING: You are using pip version 22.0.3; however, version 22.0.4 is available.\n",
      "You should consider upgrading via the '/usr/bin/python -m pip install --upgrade pip' command.\u001b[0m\u001b[33m\n",
      "\u001b[0m"
     ]
    }
   ],
   "source": [
    "!pip install opendatasets"
   ]
  },
  {
   "cell_type": "code",
   "execution_count": 4,
   "metadata": {
    "gradient": {
     "editing": false,
     "id": "11995591-7ac3-4d2c-bf9e-3beee4034e82",
     "kernelId": ""
    },
    "id": "o3L5rvyWf7nv"
   },
   "outputs": [],
   "source": [
    "import opendatasets as od"
   ]
  },
  {
   "cell_type": "code",
   "execution_count": 5,
   "metadata": {
    "gradient": {
     "editing": false,
     "id": "84f3af04-3049-4887-a2aa-1cb0533ea035",
     "kernelId": ""
    },
    "id": "DhNQqkCveNSQ",
    "outputId": "a141a81a-d2e6-42e3-a253-c9d709a32591"
   },
   "outputs": [
    {
     "name": "stdout",
     "output_type": "stream",
     "text": [
      "Skipping, found downloaded files in \"./fruits\" (use force=True to force download)\n"
     ]
    }
   ],
   "source": [
    "od.download(\"https://www.kaggle.com/moltean/fruits/fruits-360_dataset/fruits-360\")"
   ]
  },
  {
   "cell_type": "code",
   "execution_count": 6,
   "metadata": {
    "gradient": {
     "editing": false,
     "id": "020e9b58-e3c8-43c6-984e-669fb16be452",
     "kernelId": ""
    },
    "id": "pVCKozsMNsSx",
    "outputId": "6f71cac3-d236-46a0-e778-2b813f39dc06"
   },
   "outputs": [
    {
     "name": "stdout",
     "output_type": "stream",
     "text": [
      "unzip:  cannot find or open /content/FruitsData.zip, /content/FruitsData.zip.zip or /content/FruitsData.zip.ZIP.\n"
     ]
    }
   ],
   "source": [
    "!unzip -q \"/content/FruitsData.zip\""
   ]
  },
  {
   "cell_type": "code",
   "execution_count": 7,
   "metadata": {
    "gradient": {
     "editing": false,
     "id": "4fd22b90-a301-4f7a-a233-f5c23dec1d53",
     "kernelId": ""
    },
    "id": "ha_lyTMwfdfX"
   },
   "outputs": [],
   "source": [
    "import tensorflow as tf\n",
    "import numpy as np\n",
    "import matplotlib.pyplot as plt\n",
    "from pathlib import Path\n",
    "from sklearn.preprocessing import LabelEncoder\n",
    "from sklearn.model_selection import train_test_split\n",
    "from tensorflow.keras.applications import InceptionV3\n",
    "\n",
    "tf.random.set_seed(4)"
   ]
  },
  {
   "cell_type": "code",
   "execution_count": 8,
   "metadata": {
    "gradient": {
     "editing": false,
     "id": "9d064f7b-72bb-4791-a18e-0d9b76c63f86",
     "kernelId": ""
    },
    "id": "hs4SYyODlcEe"
   },
   "outputs": [],
   "source": [
    "train_path = Path(\"fruits/fruits-360_dataset/fruits-360/Training\")\n",
    "test_path = Path(\"fruits/fruits-360_dataset/fruits-360/Test\")"
   ]
  },
  {
   "cell_type": "code",
   "execution_count": 9,
   "metadata": {
    "gradient": {
     "editing": false,
     "id": "1bbffc37-c628-4966-a701-e6f33f3660e2",
     "kernelId": ""
    },
    "id": "UpNv0KTsnxoT",
    "outputId": "78283f90-e898-4506-b12c-386093fd30dd"
   },
   "outputs": [
    {
     "data": {
      "text/plain": [
       "['fruits/fruits-360_dataset/fruits-360/Training/Pomegranate/r_247_100.jpg',\n",
       " 'fruits/fruits-360_dataset/fruits-360/Training/Pomegranate/288_100.jpg',\n",
       " 'fruits/fruits-360_dataset/fruits-360/Training/Pomegranate/305_100.jpg',\n",
       " 'fruits/fruits-360_dataset/fruits-360/Training/Pomegranate/0_100.jpg',\n",
       " 'fruits/fruits-360_dataset/fruits-360/Training/Pomegranate/317_100.jpg',\n",
       " 'fruits/fruits-360_dataset/fruits-360/Training/Pomegranate/r_317_100.jpg',\n",
       " 'fruits/fruits-360_dataset/fruits-360/Training/Pomegranate/r_253_100.jpg',\n",
       " 'fruits/fruits-360_dataset/fruits-360/Training/Pomegranate/r_204_100.jpg',\n",
       " 'fruits/fruits-360_dataset/fruits-360/Training/Pomegranate/r_94_100.jpg',\n",
       " 'fruits/fruits-360_dataset/fruits-360/Training/Pomegranate/r_201_100.jpg']"
      ]
     },
     "execution_count": 9,
     "metadata": {},
     "output_type": "execute_result"
    }
   ],
   "source": [
    "train_image_paths = list(train_path.glob(\"*/*\"))\n",
    "train_image_paths = list(map(lambda x:str(x), train_image_paths))\n",
    "train_image_paths[:10]"
   ]
  },
  {
   "cell_type": "code",
   "execution_count": 10,
   "metadata": {
    "gradient": {
     "editing": false,
     "id": "ab5a83a8-1e25-4421-b850-e400db879ec7",
     "kernelId": ""
    },
    "id": "kGW7l8pka1hb",
    "outputId": "f2593e93-22e9-46f9-859c-bdf891e31aa9"
   },
   "outputs": [
    {
     "data": {
      "text/plain": [
       "['fruits/fruits-360_dataset/fruits-360/Training/Pomegranate/r_247_100.jpg',\n",
       " 'fruits/fruits-360_dataset/fruits-360/Training/Pomegranate/288_100.jpg',\n",
       " 'fruits/fruits-360_dataset/fruits-360/Training/Pomegranate/305_100.jpg',\n",
       " 'fruits/fruits-360_dataset/fruits-360/Training/Pomegranate/0_100.jpg',\n",
       " 'fruits/fruits-360_dataset/fruits-360/Training/Pomegranate/317_100.jpg',\n",
       " 'fruits/fruits-360_dataset/fruits-360/Training/Pomegranate/r_317_100.jpg',\n",
       " 'fruits/fruits-360_dataset/fruits-360/Training/Pomegranate/r_253_100.jpg',\n",
       " 'fruits/fruits-360_dataset/fruits-360/Training/Pomegranate/r_204_100.jpg',\n",
       " 'fruits/fruits-360_dataset/fruits-360/Training/Pomegranate/r_94_100.jpg',\n",
       " 'fruits/fruits-360_dataset/fruits-360/Training/Pomegranate/r_201_100.jpg']"
      ]
     },
     "execution_count": 10,
     "metadata": {},
     "output_type": "execute_result"
    }
   ],
   "source": [
    "train_image_paths = list(train_path.glob(\"*/*\"))\n",
    "train_image_paths = list(map(lambda x:str(x), train_image_paths))\n",
    "train_image_paths[:10]"
   ]
  },
  {
   "cell_type": "code",
   "execution_count": 11,
   "metadata": {
    "gradient": {
     "editing": false,
     "id": "4fa7ac5c-6490-422a-ade1-077f7e28819c",
     "kernelId": ""
    },
    "id": "Z23WlKUdn_rH",
    "outputId": "4c209e3b-be5b-4522-8a76-e715a80c4f22"
   },
   "outputs": [
    {
     "data": {
      "text/plain": [
       "['Pomegranate',\n",
       " 'Pomegranate',\n",
       " 'Pomegranate',\n",
       " 'Pomegranate',\n",
       " 'Pomegranate',\n",
       " 'Pomegranate',\n",
       " 'Pomegranate',\n",
       " 'Pomegranate',\n",
       " 'Pomegranate',\n",
       " 'Pomegranate']"
      ]
     },
     "execution_count": 11,
     "metadata": {},
     "output_type": "execute_result"
    }
   ],
   "source": [
    "def get_label(image_path):\n",
    "  return image_path.split(\"/\")[-2]\n",
    "\n",
    "train_image_labels = list(map(lambda x: get_label(x), train_image_paths))\n",
    "\n",
    "train_image_labels[100:110]"
   ]
  },
  {
   "cell_type": "code",
   "execution_count": 12,
   "metadata": {
    "gradient": {
     "editing": false,
     "id": "7a4138d4-dafa-4d71-b942-8e31e29cb2ca",
     "kernelId": ""
    },
    "id": "3t8e_krTvVlD",
    "outputId": "00b88071-5fb8-4364-f593-0091ea258e4b"
   },
   "outputs": [
    {
     "data": {
      "text/plain": [
       "array([105, 105, 105, 105, 105, 105, 105, 105, 105, 105])"
      ]
     },
     "execution_count": 12,
     "metadata": {},
     "output_type": "execute_result"
    }
   ],
   "source": [
    "Le = LabelEncoder()\n",
    "train_image_labels = Le.fit_transform(train_image_labels)\n",
    "train_image_labels[:10]"
   ]
  },
  {
   "cell_type": "code",
   "execution_count": 13,
   "metadata": {
    "gradient": {
     "editing": false,
     "id": "c98a5830-bfca-45b5-9a03-2437c82b609f",
     "kernelId": ""
    },
    "id": "gLKtp0ORpcb_",
    "outputId": "490cb76c-7a44-4682-97bb-3b7fbe7036d7"
   },
   "outputs": [
    {
     "data": {
      "text/plain": [
       "array([[0., 0., 0., ..., 0., 0., 0.],\n",
       "       [0., 0., 0., ..., 0., 0., 0.],\n",
       "       [0., 0., 0., ..., 0., 0., 0.],\n",
       "       ...,\n",
       "       [0., 0., 0., ..., 0., 0., 0.],\n",
       "       [0., 0., 0., ..., 0., 0., 0.],\n",
       "       [0., 0., 0., ..., 0., 0., 0.]], dtype=float32)"
      ]
     },
     "execution_count": 13,
     "metadata": {},
     "output_type": "execute_result"
    }
   ],
   "source": [
    "train_image_labels = tf.keras.utils.to_categorical(train_image_labels)\n",
    "train_image_labels[:10]"
   ]
  },
  {
   "cell_type": "code",
   "execution_count": 14,
   "metadata": {
    "gradient": {
     "editing": false,
     "id": "3e92df85-57b2-467c-851c-0db20baa1989",
     "kernelId": ""
    },
    "id": "8iUcdB9oSli-"
   },
   "outputs": [],
   "source": [
    "Train_paths, Val_paths, Train_labels, Val_labels = train_test_split(train_image_paths,train_image_labels)"
   ]
  },
  {
   "cell_type": "code",
   "execution_count": 15,
   "metadata": {
    "gradient": {
     "editing": false,
     "id": "490d9307-68a3-4b6c-beb9-083138c8b237",
     "kernelId": ""
    },
    "id": "dHVkB1DDT4Z3",
    "outputId": "3ce37ce6-d3f3-439e-ef4d-1f29db2b3a60"
   },
   "outputs": [
    {
     "data": {
      "text/plain": [
       "(['fruits/fruits-360_dataset/fruits-360/Training/Tomato 1/r2_170_100.jpg',\n",
       "  'fruits/fruits-360_dataset/fruits-360/Training/Potato Red Washed/34_100.jpg',\n",
       "  'fruits/fruits-360_dataset/fruits-360/Training/Melon Piel de Sapo/r2_191_100.jpg',\n",
       "  'fruits/fruits-360_dataset/fruits-360/Training/Nectarine/136_100.jpg',\n",
       "  'fruits/fruits-360_dataset/fruits-360/Training/Physalis with Husk/r_59_100.jpg',\n",
       "  'fruits/fruits-360_dataset/fruits-360/Training/Onion Red/r2_91_100.jpg',\n",
       "  'fruits/fruits-360_dataset/fruits-360/Training/Rambutan/211_100.jpg',\n",
       "  'fruits/fruits-360_dataset/fruits-360/Training/Tomato Heart/r_241_100.jpg',\n",
       "  'fruits/fruits-360_dataset/fruits-360/Training/Cherry Wax Black/283_100.jpg',\n",
       "  'fruits/fruits-360_dataset/fruits-360/Training/Hazelnut/r_274_100.jpg'],\n",
       " array([[0., 0., 0., ..., 0., 0., 0.],\n",
       "        [0., 0., 0., ..., 0., 0., 0.],\n",
       "        [0., 0., 0., ..., 0., 0., 0.],\n",
       "        ...,\n",
       "        [0., 0., 0., ..., 0., 0., 0.],\n",
       "        [0., 0., 0., ..., 0., 0., 0.],\n",
       "        [0., 0., 0., ..., 0., 0., 0.]], dtype=float32))"
      ]
     },
     "execution_count": 15,
     "metadata": {},
     "output_type": "execute_result"
    }
   ],
   "source": [
    "Train_paths[:10], Train_labels[:10]"
   ]
  },
  {
   "cell_type": "code",
   "execution_count": 16,
   "metadata": {
    "gradient": {
     "editing": false,
     "id": "9e20dcf7-11d9-4c5e-8797-c02838b98f42",
     "kernelId": ""
    },
    "id": "t9H_UuGxojeC"
   },
   "outputs": [],
   "source": [
    "# Data Augmentation"
   ]
  },
  {
   "cell_type": "code",
   "execution_count": 17,
   "metadata": {
    "gradient": {
     "editing": false,
     "id": "59d98506-fce9-4c0c-9c07-20ea2892a625",
     "kernelId": ""
    },
    "id": "kSjAM8J7oy9_"
   },
   "outputs": [],
   "source": [
    "#Function to read image jpeg file and return Image tensor and label for the same"
   ]
  },
  {
   "cell_type": "code",
   "execution_count": 18,
   "metadata": {
    "gradient": {
     "editing": false,
     "id": "c4fba840-ea8a-4674-9817-e21546e1514b",
     "kernelId": ""
    },
    "id": "XKkJ0Qt4pK2u"
   },
   "outputs": [],
   "source": [
    "def load(image, label):\n",
    "  image = tf.io.read_file(image)\n",
    "  image = tf.io.decode_jpeg(image, channels = 3)\n",
    "  return image, label"
   ]
  },
  {
   "cell_type": "code",
   "execution_count": 19,
   "metadata": {
    "gradient": {
     "editing": false,
     "id": "85d1e99b-4da0-4643-96a5-e95d67ba50ea",
     "kernelId": ""
    },
    "id": "Jbwi-qykqBvJ"
   },
   "outputs": [],
   "source": [
    "# Define Augmentation"
   ]
  },
  {
   "cell_type": "code",
   "execution_count": 20,
   "metadata": {
    "gradient": {
     "editing": false,
     "id": "14efd3b9-dd0e-42c4-b0a6-cfe8cd6961bb",
     "kernelId": ""
    },
    "id": "grvz_hSSqTam"
   },
   "outputs": [
    {
     "name": "stderr",
     "output_type": "stream",
     "text": [
      "2022-03-28 11:46:59.727424: I tensorflow/stream_executor/cuda/cuda_gpu_executor.cc:1052] successful NUMA node read from SysFS had negative value (-1), but there must be at least one NUMA node, so returning NUMA node zero\n",
      "2022-03-28 11:47:00.039144: I tensorflow/stream_executor/cuda/cuda_gpu_executor.cc:1052] successful NUMA node read from SysFS had negative value (-1), but there must be at least one NUMA node, so returning NUMA node zero\n",
      "2022-03-28 11:47:00.039709: I tensorflow/stream_executor/cuda/cuda_gpu_executor.cc:1052] successful NUMA node read from SysFS had negative value (-1), but there must be at least one NUMA node, so returning NUMA node zero\n",
      "2022-03-28 11:47:00.041631: I tensorflow/stream_executor/cuda/cuda_gpu_executor.cc:1052] successful NUMA node read from SysFS had negative value (-1), but there must be at least one NUMA node, so returning NUMA node zero\n",
      "2022-03-28 11:47:00.042104: I tensorflow/stream_executor/cuda/cuda_gpu_executor.cc:1052] successful NUMA node read from SysFS had negative value (-1), but there must be at least one NUMA node, so returning NUMA node zero\n",
      "2022-03-28 11:47:00.042492: I tensorflow/stream_executor/cuda/cuda_gpu_executor.cc:1052] successful NUMA node read from SysFS had negative value (-1), but there must be at least one NUMA node, so returning NUMA node zero\n",
      "2022-03-28 11:47:01.699473: I tensorflow/stream_executor/cuda/cuda_gpu_executor.cc:1052] successful NUMA node read from SysFS had negative value (-1), but there must be at least one NUMA node, so returning NUMA node zero\n",
      "2022-03-28 11:47:01.699852: I tensorflow/stream_executor/cuda/cuda_gpu_executor.cc:1052] successful NUMA node read from SysFS had negative value (-1), but there must be at least one NUMA node, so returning NUMA node zero\n",
      "2022-03-28 11:47:01.700161: I tensorflow/stream_executor/cuda/cuda_gpu_executor.cc:1052] successful NUMA node read from SysFS had negative value (-1), but there must be at least one NUMA node, so returning NUMA node zero\n",
      "2022-03-28 11:47:01.700369: I tensorflow/core/common_runtime/gpu/gpu_device.cc:1525] Created device /job:localhost/replica:0/task:0/device:GPU:0 with 7275 MB memory:  -> device: 0, name: Quadro M4000, pci bus id: 0000:00:05.0, compute capability: 5.2\n"
     ]
    }
   ],
   "source": [
    "IMG_SIZE = 224\n",
    "BATCH_SIZE = 32\n",
    "\n",
    "# Basic Transformation for Resize\n",
    "resize = tf.keras.Sequential([\n",
    "    tf.keras.layers.experimental.preprocessing.Resizing(IMG_SIZE, IMG_SIZE)                                                            \n",
    "])\n",
    "\n",
    "#Data Augmentation\n",
    "data_augmentation = tf.keras.Sequential([\n",
    "  tf.keras.layers.experimental.preprocessing.RandomFlip(\"horizontal\")                                         ,\n",
    "  tf.keras.layers.experimental.preprocessing.RandomRotation(0.2),\n",
    "  tf.keras.layers.experimental.preprocessing.RandomZoom(height_factor=(-0.3, -0.2))\n",
    "])"
   ]
  },
  {
   "cell_type": "code",
   "execution_count": 21,
   "metadata": {
    "gradient": {
     "editing": false,
     "id": "3dbe40d3-ee8e-428a-b5a8-8e7ecee34bb5",
     "kernelId": ""
    },
    "id": "mPBllZ_FsT5t"
   },
   "outputs": [],
   "source": [
    "# Load and Convert Image files to Tensors\n",
    "\n",
    "AUTOTUNE = tf.data.experimental.AUTOTUNE\n",
    "\n",
    "def get_dataset(paths, labels, train=True):\n",
    "  #Convert Paths and Labels to TF tensors\n",
    "  image_paths = tf.convert_to_tensor(paths)\n",
    "  labels = tf.convert_to_tensor(labels)\n",
    "\n",
    "  #Create dataset object for images and labels\n",
    "  image_dataset = tf.data.Dataset.from_tensor_slices(image_paths)\n",
    "  label_dataset = tf.data.Dataset.from_tensor_slices(labels)\n",
    "\n",
    "  # Zip the images and labels\n",
    "  dataset = tf.data.Dataset.zip((image_dataset, label_dataset))\n",
    "  \n",
    "\n",
    "  #Apply load function to all the images and labels\n",
    "  dataset = dataset.map(lambda image, label: load(image, label))\n",
    "  dataset = dataset.map(lambda image, label: (resize(image), label), num_parallel_calls = AUTOTUNE)\n",
    "  dataset = dataset.shuffle(1000)\n",
    "  dataset = dataset.batch(BATCH_SIZE)\n",
    "\n",
    "  #For Training dataset, apply Augmentation, for Validation, only Repeat\n",
    "\n",
    "  if train:\n",
    "    dataset = dataset.map(lambda image, label: (data_augmentation(image), label), num_parallel_calls = AUTOTUNE)\n",
    "  \n",
    "  dataset = dataset.repeat()\n",
    "\n",
    "  return dataset\n"
   ]
  },
  {
   "cell_type": "code",
   "execution_count": 22,
   "metadata": {
    "gradient": {
     "editing": false,
     "id": "8fcadb24-a56f-431b-8c9d-db47f91f89e1",
     "kernelId": ""
    },
    "id": "rS63Z3-y_a00",
    "outputId": "b36335d5-8dd0-4be5-9df8-71d6047476c3"
   },
   "outputs": [
    {
     "name": "stdout",
     "output_type": "stream",
     "text": [
      "CPU times: user 602 ms, sys: 40.7 ms, total: 642 ms\n",
      "Wall time: 651 ms\n",
      "(32, 224, 224, 3)\n",
      "(32, 131)\n"
     ]
    }
   ],
   "source": [
    "#Create Training dataset and Validate the same\n",
    "\n",
    "%time train_dataset = get_dataset(Train_paths , Train_labels)\n",
    "\n",
    "image, label = next(iter(train_dataset))\n",
    "print(image.shape)\n",
    "print(label.shape)\n"
   ]
  },
  {
   "cell_type": "code",
   "execution_count": 23,
   "metadata": {
    "gradient": {
     "editing": false,
     "id": "a37643c9-674e-4ba1-9574-2daf411191e2",
     "kernelId": ""
    },
    "id": "9P0_DepOg3XE",
    "outputId": "9750c4b9-e494-46cd-e3d5-a7c1019c7030"
   },
   "outputs": [
    {
     "name": "stdout",
     "output_type": "stream",
     "text": [
      "Grape White 4\n"
     ]
    },
    {
     "data": {
      "image/png": "[encoded data removed]",
      "text/plain": [
       "<Figure size 432x288 with 1 Axes>"
      ]
     },
     "metadata": {
      "needs_background": "light"
     },
     "output_type": "display_data"
    }
   ],
   "source": [
    "plt.imshow((image[0].numpy()/255).reshape(224,224,3))\n",
    "print(Le.inverse_transform(np.argmax(label, axis=1))[0])"
   ]
  },
  {
   "cell_type": "code",
   "execution_count": 24,
   "metadata": {
    "gradient": {
     "editing": false,
     "id": "e51ca71f-a80f-4719-864b-2675ea462978",
     "kernelId": ""
    },
    "id": "FcAmbAb-i9zv",
    "outputId": "3315af40-2b40-4051-8c9d-d820388ee25c"
   },
   "outputs": [
    {
     "name": "stdout",
     "output_type": "stream",
     "text": [
      "CPU times: user 99.6 ms, sys: 374 µs, total: 100 ms\n",
      "Wall time: 99.1 ms\n",
      "(32, 224, 224, 3)\n",
      "(32, 131)\n",
      "Tangelo\n"
     ]
    },
    {
     "data": {
      "image/png": "[encoded data removed]",
      "text/plain": [
       "<Figure size 432x288 with 1 Axes>"
      ]
     },
     "metadata": {
      "needs_background": "light"
     },
     "output_type": "display_data"
    }
   ],
   "source": [
    "#Create Training dataset and Validate the same\n",
    "\n",
    "%time val_dataset = get_dataset(Train_paths , Train_labels, train=False)\n",
    "\n",
    "image, label = next(iter(val_dataset))\n",
    "print(image.shape)\n",
    "print(label.shape)\n",
    "\n",
    "plt.imshow((image[0].numpy()/255).reshape(224,224,3))\n",
    "print(Le.inverse_transform(np.argmax(label, axis=1))[0])"
   ]
  },
  {
   "cell_type": "code",
   "execution_count": 25,
   "metadata": {
    "gradient": {
     "editing": false,
     "id": "6b36dffa-bd5f-4a37-b43a-bd6b52977c2c",
     "kernelId": ""
    },
    "id": "V_eKYrJEl1Uc",
    "outputId": "79e5292d-2cc8-4259-96d6-f6c4f3d8d04b"
   },
   "outputs": [
    {
     "name": "stdout",
     "output_type": "stream",
     "text": [
      "Downloading data from https://storage.googleapis.com/tensorflow/keras-applications/inception_v3/inception_v3_weights_tf_dim_ordering_tf_kernels_notop.h5\n",
      "87916544/87910968 [==============================] - 4s 0us/step\n",
      "87924736/87910968 [==============================] - 4s 0us/step\n",
      "Model: \"sequential_2\"\n",
      "_________________________________________________________________\n",
      " Layer (type)                Output Shape              Param #   \n",
      "=================================================================\n",
      " inception_v3 (Functional)   (None, 5, 5, 2048)        21802784  \n",
      "                                                                 \n",
      " global_average_pooling2d (G  (None, 2048)             0         \n",
      " lobalAveragePooling2D)                                          \n",
      "                                                                 \n",
      " dense (Dense)               (None, 131)               268419    \n",
      "                                                                 \n",
      "=================================================================\n",
      "Total params: 22,071,203\n",
      "Trainable params: 22,036,771\n",
      "Non-trainable params: 34,432\n",
      "_________________________________________________________________\n"
     ]
    }
   ],
   "source": [
    "backbone = InceptionV3(\n",
    "    input_shape=(224,224,3),\n",
    "    include_top = False\n",
    ")\n",
    "\n",
    "Model = tf.keras.Sequential([\n",
    "    backbone,\n",
    "    tf.keras.layers.GlobalAveragePooling2D(),\n",
    "    tf.keras.layers.Dense(131, activation = 'softmax')\n",
    "\n",
    "])\n",
    "\n",
    "Model.summary()"
   ]
  },
  {
   "cell_type": "code",
   "execution_count": 26,
   "metadata": {
    "gradient": {
     "editing": false,
     "id": "56549943-1d35-4d0e-af19-dd039036cdfd",
     "kernelId": ""
    },
    "id": "a1vp7Dyr67x8"
   },
   "outputs": [],
   "source": [
    "#Compile the Model\n",
    "Model.compile(\n",
    "    optimizer = tf.keras.optimizers.Adam(learning_rate = 0.001,beta_1 = 0.9, beta_2 = 0.999, epsilon = 1e-07),\n",
    "    loss = 'categorical_crossentropy',\n",
    "    metrics = ['accuracy', tf.keras.metrics.Precision(name = 'precision'), tf.keras.metrics.Recall(name = 'Recall')]\n",
    ")"
   ]
  },
  {
   "cell_type": "code",
   "execution_count": 27,
   "metadata": {
    "gradient": {
     "editing": false,
     "id": "b9e9151c-4869-44cc-86e8-b6ca139bfa88",
     "kernelId": ""
    },
    "id": "0wsQdoUz-UIg",
    "outputId": "be34f1b1-662e-47b6-b866-022f52eed285"
   },
   "outputs": [
    {
     "name": "stderr",
     "output_type": "stream",
     "text": [
      "2022-03-28 11:47:24.756347: I tensorflow/stream_executor/cuda/cuda_dnn.cc:377] Loaded cuDNN version 8302\n"
     ]
    },
    {
     "name": "stdout",
     "output_type": "stream",
     "text": [
      "1586/1586 [==============================] - 823s 504ms/step - loss: 0.5534 - accuracy: 0.8480 - precision: 0.9192 - Recall: 0.8020 - val_loss: 2.1930 - val_accuracy: 0.5353 - val_precision: 0.5778 - val_Recall: 0.5019\n"
     ]
    }
   ],
   "source": [
    "#Train the Model\n",
    "\n",
    "history = Model.fit(\n",
    "    train_dataset,\n",
    "    steps_per_epoch = len(Train_paths)//BATCH_SIZE,\n",
    "    epochs = 1,\n",
    "    validation_data = val_dataset,\n",
    "    validation_steps = len(Val_paths)//BATCH_SIZE\n",
    ")"
   ]
  },
  {
   "cell_type": "code",
   "execution_count": 28,
   "metadata": {
    "gradient": {
     "editing": false,
     "id": "71d26127-02d9-4141-9c08-0d7dbb51b9f6",
     "kernelId": ""
    },
    "id": "EgZ9nhzq7pV7"
   },
   "outputs": [],
   "source": [
    "#Turn off the backbone network(ResNet)\n",
    "Model.layers[0].trainable = False"
   ]
  },
  {
   "cell_type": "code",
   "execution_count": 29,
   "metadata": {
    "gradient": {
     "editing": false,
     "id": "e6041f53-d4e7-4763-a172-95eeb9586533",
     "kernelId": ""
    },
    "id": "2bd_T8uMDttD"
   },
   "outputs": [],
   "source": [
    "#Define Callbacks\n",
    "checkpoint = tf.keras.callbacks.ModelCheckpoint(\"Inception Best Weights.h5\", verbose = 1, save_best_only = True, save_weights_only = True)\n",
    "early_stop = tf.keras.callbacks.EarlyStopping(patience=4)"
   ]
  },
  {
   "cell_type": "code",
   "execution_count": 30,
   "metadata": {
    "gradient": {
     "editing": false,
     "id": "0c82e0a6-ff76-42c3-a8cf-b1bcbf9f1327",
     "kernelId": ""
    },
    "id": "uySUX2MgEg1Z"
   },
   "outputs": [
    {
     "name": "stdout",
     "output_type": "stream",
     "text": [
      "Model: \"sequential_2\"\n",
      "_________________________________________________________________\n",
      " Layer (type)                Output Shape              Param #   \n",
      "=================================================================\n",
      " inception_v3 (Functional)   (None, 5, 5, 2048)        21802784  \n",
      "                                                                 \n",
      " global_average_pooling2d (G  (None, 2048)             0         \n",
      " lobalAveragePooling2D)                                          \n",
      "                                                                 \n",
      " dense (Dense)               (None, 131)               268419    \n",
      "                                                                 \n",
      "=================================================================\n",
      "Total params: 22,071,203\n",
      "Trainable params: 268,419\n",
      "Non-trainable params: 21,802,784\n",
      "_________________________________________________________________\n"
     ]
    }
   ],
   "source": [
    "Model.summary()"
   ]
  },
  {
   "cell_type": "code",
   "execution_count": 31,
   "metadata": {
    "gradient": {
     "editing": false,
     "id": "1ccd582c-bfbe-4f88-aef1-5836799fa068",
     "kernelId": ""
    },
    "id": "xHnQoXhGEruq",
    "tags": []
   },
   "outputs": [
    {
     "name": "stdout",
     "output_type": "stream",
     "text": [
      "Epoch 1/8\n",
      "1586/1586 [==============================] - ETA: 0s - loss: 0.1263 - accuracy: 0.9616 - precision: 0.9674 - Recall: 0.9557\n",
      "Epoch 00001: val_loss improved from inf to 1.37081, saving model to Inception Best Weights.h5\n",
      "1586/1586 [==============================] - 796s 501ms/step - loss: 0.1263 - accuracy: 0.9616 - precision: 0.9674 - Recall: 0.9557 - val_loss: 1.3708 - val_accuracy: 0.7045 - val_precision: 0.7320 - val_Recall: 0.6856\n",
      "Epoch 2/8\n",
      "1586/1586 [==============================] - ETA: 0s - loss: 0.0852 - accuracy: 0.9752 - precision: 0.9781 - Recall: 0.9723\n",
      "Epoch 00002: val_loss improved from 1.37081 to 0.63920, saving model to Inception Best Weights.h5\n",
      "1586/1586 [==============================] - 799s 502ms/step - loss: 0.0852 - accuracy: 0.9752 - precision: 0.9781 - Recall: 0.9723 - val_loss: 0.6392 - val_accuracy: 0.8284 - val_precision: 0.8494 - val_Recall: 0.8112\n",
      "Epoch 3/8\n",
      "1586/1586 [==============================] - ETA: 0s - loss: 0.0688 - accuracy: 0.9787 - precision: 0.9809 - Recall: 0.9766\n",
      "Epoch 00003: val_loss did not improve from 0.63920\n",
      "1586/1586 [==============================] - 805s 507ms/step - loss: 0.0688 - accuracy: 0.9787 - precision: 0.9809 - Recall: 0.9766 - val_loss: 2.4947 - val_accuracy: 0.5967 - val_precision: 0.6316 - val_Recall: 0.5758\n",
      "Epoch 4/8\n",
      "1586/1586 [==============================] - ETA: 0s - loss: 0.0512 - accuracy: 0.9837 - precision: 0.9855 - Recall: 0.9826\n",
      "Epoch 00004: val_loss did not improve from 0.63920\n",
      "1586/1586 [==============================] - 795s 501ms/step - loss: 0.0512 - accuracy: 0.9837 - precision: 0.9855 - Recall: 0.9826 - val_loss: 2.0312 - val_accuracy: 0.6666 - val_precision: 0.6893 - val_Recall: 0.6535\n",
      "Epoch 5/8\n",
      "1586/1586 [==============================] - ETA: 0s - loss: 0.0482 - accuracy: 0.9859 - precision: 0.9868 - Recall: 0.9850\n",
      "Epoch 00005: val_loss did not improve from 0.63920\n",
      "1586/1586 [==============================] - 797s 503ms/step - loss: 0.0482 - accuracy: 0.9859 - precision: 0.9868 - Recall: 0.9850 - val_loss: 1.7445 - val_accuracy: 0.6686 - val_precision: 0.6954 - val_Recall: 0.6532\n",
      "Epoch 6/8\n",
      "1586/1586 [==============================] - ETA: 0s - loss: 0.0405 - accuracy: 0.9880 - precision: 0.9889 - Recall: 0.9870\n",
      "Epoch 00006: val_loss did not improve from 0.63920\n",
      "1586/1586 [==============================] - 803s 506ms/step - loss: 0.0405 - accuracy: 0.9880 - precision: 0.9889 - Recall: 0.9870 - val_loss: 1.2719 - val_accuracy: 0.7729 - val_precision: 0.7957 - val_Recall: 0.7612\n"
     ]
    }
   ],
   "source": [
    "#Train the Model without the backbone layer\n",
    "\n",
    "#Train the Model\n",
    "\n",
    "history = Model.fit(\n",
    "    train_dataset,\n",
    "    steps_per_epoch = len(Train_paths)//BATCH_SIZE,\n",
    "    epochs = 8,\n",
    "    callbacks = [checkpoint, early_stop],\n",
    "    validation_data = val_dataset,\n",
    "    validation_steps = len(Val_paths)//BATCH_SIZE\n",
    ")"
   ]
  }
 ],
 "metadata": {
  "kernelspec": {
   "display_name": "Python 3 (ipykernel)",
   "language": "python",
   "name": "python3"
  },
  "language_info": {
   "codemirror_mode": {
    "name": "ipython",
    "version": 3
   },
   "file_extension": ".py",
   "mimetype": "text/x-python",
   "name": "python",
   "nbconvert_exporter": "python",
   "pygments_lexer": "ipython3",
   "version": "3.8.10"
  }
 },
 "nbformat": 4,
 "nbformat_minor": 4
}
